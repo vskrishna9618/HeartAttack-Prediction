{
  "nbformat": 4,
  "nbformat_minor": 0,
  "metadata": {
    "colab": {
      "provenance": [],
      "authorship_tag": "ABX9TyNZYlE65p+OpEfAeNlwqgTG",
      "include_colab_link": true
    },
    "kernelspec": {
      "name": "python3",
      "display_name": "Python 3"
    },
    "language_info": {
      "name": "python"
    }
  },
  "cells": [
    {
      "cell_type": "markdown",
      "metadata": {
        "id": "view-in-github",
        "colab_type": "text"
      },
      "source": [
        "<a href=\"https://colab.research.google.com/github/dirwolf/Heart-Attack-prediction-/blob/main/Heart_atack_prediction.ipynb\" target=\"_parent\"><img src=\"https://colab.research.google.com/assets/colab-badge.svg\" alt=\"Open In Colab\"/></a>"
      ]
    },
    {
      "cell_type": "code",
      "execution_count": null,
      "metadata": {
        "colab": {
          "base_uri": "https://localhost:8080/"
        },
        "id": "jZmRyIgA86Tn",
        "outputId": "e3035f27-faa1-441c-dd8d-5301c520f103",
        "collapsed": true
      },
      "outputs": [
        {
          "output_type": "stream",
          "name": "stdout",
          "text": [
            "Requirement already satisfied: pandas in /usr/local/lib/python3.10/dist-packages (2.2.2)\n",
            "Requirement already satisfied: scikit-learn in /usr/local/lib/python3.10/dist-packages (1.6.0)\n",
            "Requirement already satisfied: tensorflow in /usr/local/lib/python3.10/dist-packages (2.17.1)\n",
            "Requirement already satisfied: keras in /usr/local/lib/python3.10/dist-packages (3.5.0)\n",
            "Requirement already satisfied: numpy>=1.22.4 in /usr/local/lib/python3.10/dist-packages (from pandas) (1.26.4)\n",
            "Requirement already satisfied: python-dateutil>=2.8.2 in /usr/local/lib/python3.10/dist-packages (from pandas) (2.8.2)\n",
            "Requirement already satisfied: pytz>=2020.1 in /usr/local/lib/python3.10/dist-packages (from pandas) (2024.2)\n",
            "Requirement already satisfied: tzdata>=2022.7 in /usr/local/lib/python3.10/dist-packages (from pandas) (2024.2)\n",
            "Requirement already satisfied: scipy>=1.6.0 in /usr/local/lib/python3.10/dist-packages (from scikit-learn) (1.13.1)\n",
            "Requirement already satisfied: joblib>=1.2.0 in /usr/local/lib/python3.10/dist-packages (from scikit-learn) (1.4.2)\n",
            "Requirement already satisfied: threadpoolctl>=3.1.0 in /usr/local/lib/python3.10/dist-packages (from scikit-learn) (3.5.0)\n",
            "Requirement already satisfied: absl-py>=1.0.0 in /usr/local/lib/python3.10/dist-packages (from tensorflow) (1.4.0)\n",
            "Requirement already satisfied: astunparse>=1.6.0 in /usr/local/lib/python3.10/dist-packages (from tensorflow) (1.6.3)\n",
            "Requirement already satisfied: flatbuffers>=24.3.25 in /usr/local/lib/python3.10/dist-packages (from tensorflow) (24.3.25)\n",
            "Requirement already satisfied: gast!=0.5.0,!=0.5.1,!=0.5.2,>=0.2.1 in /usr/local/lib/python3.10/dist-packages (from tensorflow) (0.6.0)\n",
            "Requirement already satisfied: google-pasta>=0.1.1 in /usr/local/lib/python3.10/dist-packages (from tensorflow) (0.2.0)\n",
            "Requirement already satisfied: h5py>=3.10.0 in /usr/local/lib/python3.10/dist-packages (from tensorflow) (3.12.1)\n",
            "Requirement already satisfied: libclang>=13.0.0 in /usr/local/lib/python3.10/dist-packages (from tensorflow) (18.1.1)\n",
            "Requirement already satisfied: ml-dtypes<0.5.0,>=0.3.1 in /usr/local/lib/python3.10/dist-packages (from tensorflow) (0.4.1)\n",
            "Requirement already satisfied: opt-einsum>=2.3.2 in /usr/local/lib/python3.10/dist-packages (from tensorflow) (3.4.0)\n",
            "Requirement already satisfied: packaging in /usr/local/lib/python3.10/dist-packages (from tensorflow) (24.2)\n",
            "Requirement already satisfied: protobuf!=4.21.0,!=4.21.1,!=4.21.2,!=4.21.3,!=4.21.4,!=4.21.5,<5.0.0dev,>=3.20.3 in /usr/local/lib/python3.10/dist-packages (from tensorflow) (4.25.5)\n",
            "Requirement already satisfied: requests<3,>=2.21.0 in /usr/local/lib/python3.10/dist-packages (from tensorflow) (2.32.3)\n",
            "Requirement already satisfied: setuptools in /usr/local/lib/python3.10/dist-packages (from tensorflow) (75.1.0)\n",
            "Requirement already satisfied: six>=1.12.0 in /usr/local/lib/python3.10/dist-packages (from tensorflow) (1.17.0)\n",
            "Requirement already satisfied: termcolor>=1.1.0 in /usr/local/lib/python3.10/dist-packages (from tensorflow) (2.5.0)\n",
            "Requirement already satisfied: typing-extensions>=3.6.6 in /usr/local/lib/python3.10/dist-packages (from tensorflow) (4.12.2)\n",
            "Requirement already satisfied: wrapt>=1.11.0 in /usr/local/lib/python3.10/dist-packages (from tensorflow) (1.17.0)\n",
            "Requirement already satisfied: grpcio<2.0,>=1.24.3 in /usr/local/lib/python3.10/dist-packages (from tensorflow) (1.68.1)\n",
            "Requirement already satisfied: tensorboard<2.18,>=2.17 in /usr/local/lib/python3.10/dist-packages (from tensorflow) (2.17.1)\n",
            "Requirement already satisfied: tensorflow-io-gcs-filesystem>=0.23.1 in /usr/local/lib/python3.10/dist-packages (from tensorflow) (0.37.1)\n",
            "Requirement already satisfied: rich in /usr/local/lib/python3.10/dist-packages (from keras) (13.9.4)\n",
            "Requirement already satisfied: namex in /usr/local/lib/python3.10/dist-packages (from keras) (0.0.8)\n",
            "Requirement already satisfied: optree in /usr/local/lib/python3.10/dist-packages (from keras) (0.13.1)\n",
            "Requirement already satisfied: wheel<1.0,>=0.23.0 in /usr/local/lib/python3.10/dist-packages (from astunparse>=1.6.0->tensorflow) (0.45.1)\n",
            "Requirement already satisfied: charset-normalizer<4,>=2 in /usr/local/lib/python3.10/dist-packages (from requests<3,>=2.21.0->tensorflow) (3.4.0)\n",
            "Requirement already satisfied: idna<4,>=2.5 in /usr/local/lib/python3.10/dist-packages (from requests<3,>=2.21.0->tensorflow) (3.10)\n",
            "Requirement already satisfied: urllib3<3,>=1.21.1 in /usr/local/lib/python3.10/dist-packages (from requests<3,>=2.21.0->tensorflow) (2.2.3)\n",
            "Requirement already satisfied: certifi>=2017.4.17 in /usr/local/lib/python3.10/dist-packages (from requests<3,>=2.21.0->tensorflow) (2024.12.14)\n",
            "Requirement already satisfied: markdown>=2.6.8 in /usr/local/lib/python3.10/dist-packages (from tensorboard<2.18,>=2.17->tensorflow) (3.7)\n",
            "Requirement already satisfied: tensorboard-data-server<0.8.0,>=0.7.0 in /usr/local/lib/python3.10/dist-packages (from tensorboard<2.18,>=2.17->tensorflow) (0.7.2)\n",
            "Requirement already satisfied: werkzeug>=1.0.1 in /usr/local/lib/python3.10/dist-packages (from tensorboard<2.18,>=2.17->tensorflow) (3.1.3)\n",
            "Requirement already satisfied: markdown-it-py>=2.2.0 in /usr/local/lib/python3.10/dist-packages (from rich->keras) (3.0.0)\n",
            "Requirement already satisfied: pygments<3.0.0,>=2.13.0 in /usr/local/lib/python3.10/dist-packages (from rich->keras) (2.18.0)\n",
            "Requirement already satisfied: mdurl~=0.1 in /usr/local/lib/python3.10/dist-packages (from markdown-it-py>=2.2.0->rich->keras) (0.1.2)\n",
            "Requirement already satisfied: MarkupSafe>=2.1.1 in /usr/local/lib/python3.10/dist-packages (from werkzeug>=1.0.1->tensorboard<2.18,>=2.17->tensorflow) (3.0.2)\n"
          ]
        }
      ],
      "source": [
        "pip install pandas scikit-learn tensorflow keras"
      ]
    },
    {
      "cell_type": "code",
      "source": [
        "from google.colab import files\n",
        "uploaded = files.upload()"
      ],
      "metadata": {
        "colab": {
          "base_uri": "https://localhost:8080/",
          "height": 73
        },
        "id": "VDlkbw6o-a1Y",
        "outputId": "dec2f7dd-d393-4ff7-de87-3bce1739cbb2"
      },
      "execution_count": 1,
      "outputs": [
        {
          "output_type": "display_data",
          "data": {
            "text/plain": [
              "<IPython.core.display.HTML object>"
            ],
            "text/html": [
              "\n",
              "     <input type=\"file\" id=\"files-b9e3af60-502c-4b1a-a852-c190e00f19de\" name=\"files[]\" multiple disabled\n",
              "        style=\"border:none\" />\n",
              "     <output id=\"result-b9e3af60-502c-4b1a-a852-c190e00f19de\">\n",
              "      Upload widget is only available when the cell has been executed in the\n",
              "      current browser session. Please rerun this cell to enable.\n",
              "      </output>\n",
              "      <script>// Copyright 2017 Google LLC\n",
              "//\n",
              "// Licensed under the Apache License, Version 2.0 (the \"License\");\n",
              "// you may not use this file except in compliance with the License.\n",
              "// You may obtain a copy of the License at\n",
              "//\n",
              "//      http://www.apache.org/licenses/LICENSE-2.0\n",
              "//\n",
              "// Unless required by applicable law or agreed to in writing, software\n",
              "// distributed under the License is distributed on an \"AS IS\" BASIS,\n",
              "// WITHOUT WARRANTIES OR CONDITIONS OF ANY KIND, either express or implied.\n",
              "// See the License for the specific language governing permissions and\n",
              "// limitations under the License.\n",
              "\n",
              "/**\n",
              " * @fileoverview Helpers for google.colab Python module.\n",
              " */\n",
              "(function(scope) {\n",
              "function span(text, styleAttributes = {}) {\n",
              "  const element = document.createElement('span');\n",
              "  element.textContent = text;\n",
              "  for (const key of Object.keys(styleAttributes)) {\n",
              "    element.style[key] = styleAttributes[key];\n",
              "  }\n",
              "  return element;\n",
              "}\n",
              "\n",
              "// Max number of bytes which will be uploaded at a time.\n",
              "const MAX_PAYLOAD_SIZE = 100 * 1024;\n",
              "\n",
              "function _uploadFiles(inputId, outputId) {\n",
              "  const steps = uploadFilesStep(inputId, outputId);\n",
              "  const outputElement = document.getElementById(outputId);\n",
              "  // Cache steps on the outputElement to make it available for the next call\n",
              "  // to uploadFilesContinue from Python.\n",
              "  outputElement.steps = steps;\n",
              "\n",
              "  return _uploadFilesContinue(outputId);\n",
              "}\n",
              "\n",
              "// This is roughly an async generator (not supported in the browser yet),\n",
              "// where there are multiple asynchronous steps and the Python side is going\n",
              "// to poll for completion of each step.\n",
              "// This uses a Promise to block the python side on completion of each step,\n",
              "// then passes the result of the previous step as the input to the next step.\n",
              "function _uploadFilesContinue(outputId) {\n",
              "  const outputElement = document.getElementById(outputId);\n",
              "  const steps = outputElement.steps;\n",
              "\n",
              "  const next = steps.next(outputElement.lastPromiseValue);\n",
              "  return Promise.resolve(next.value.promise).then((value) => {\n",
              "    // Cache the last promise value to make it available to the next\n",
              "    // step of the generator.\n",
              "    outputElement.lastPromiseValue = value;\n",
              "    return next.value.response;\n",
              "  });\n",
              "}\n",
              "\n",
              "/**\n",
              " * Generator function which is called between each async step of the upload\n",
              " * process.\n",
              " * @param {string} inputId Element ID of the input file picker element.\n",
              " * @param {string} outputId Element ID of the output display.\n",
              " * @return {!Iterable<!Object>} Iterable of next steps.\n",
              " */\n",
              "function* uploadFilesStep(inputId, outputId) {\n",
              "  const inputElement = document.getElementById(inputId);\n",
              "  inputElement.disabled = false;\n",
              "\n",
              "  const outputElement = document.getElementById(outputId);\n",
              "  outputElement.innerHTML = '';\n",
              "\n",
              "  const pickedPromise = new Promise((resolve) => {\n",
              "    inputElement.addEventListener('change', (e) => {\n",
              "      resolve(e.target.files);\n",
              "    });\n",
              "  });\n",
              "\n",
              "  const cancel = document.createElement('button');\n",
              "  inputElement.parentElement.appendChild(cancel);\n",
              "  cancel.textContent = 'Cancel upload';\n",
              "  const cancelPromise = new Promise((resolve) => {\n",
              "    cancel.onclick = () => {\n",
              "      resolve(null);\n",
              "    };\n",
              "  });\n",
              "\n",
              "  // Wait for the user to pick the files.\n",
              "  const files = yield {\n",
              "    promise: Promise.race([pickedPromise, cancelPromise]),\n",
              "    response: {\n",
              "      action: 'starting',\n",
              "    }\n",
              "  };\n",
              "\n",
              "  cancel.remove();\n",
              "\n",
              "  // Disable the input element since further picks are not allowed.\n",
              "  inputElement.disabled = true;\n",
              "\n",
              "  if (!files) {\n",
              "    return {\n",
              "      response: {\n",
              "        action: 'complete',\n",
              "      }\n",
              "    };\n",
              "  }\n",
              "\n",
              "  for (const file of files) {\n",
              "    const li = document.createElement('li');\n",
              "    li.append(span(file.name, {fontWeight: 'bold'}));\n",
              "    li.append(span(\n",
              "        `(${file.type || 'n/a'}) - ${file.size} bytes, ` +\n",
              "        `last modified: ${\n",
              "            file.lastModifiedDate ? file.lastModifiedDate.toLocaleDateString() :\n",
              "                                    'n/a'} - `));\n",
              "    const percent = span('0% done');\n",
              "    li.appendChild(percent);\n",
              "\n",
              "    outputElement.appendChild(li);\n",
              "\n",
              "    const fileDataPromise = new Promise((resolve) => {\n",
              "      const reader = new FileReader();\n",
              "      reader.onload = (e) => {\n",
              "        resolve(e.target.result);\n",
              "      };\n",
              "      reader.readAsArrayBuffer(file);\n",
              "    });\n",
              "    // Wait for the data to be ready.\n",
              "    let fileData = yield {\n",
              "      promise: fileDataPromise,\n",
              "      response: {\n",
              "        action: 'continue',\n",
              "      }\n",
              "    };\n",
              "\n",
              "    // Use a chunked sending to avoid message size limits. See b/62115660.\n",
              "    let position = 0;\n",
              "    do {\n",
              "      const length = Math.min(fileData.byteLength - position, MAX_PAYLOAD_SIZE);\n",
              "      const chunk = new Uint8Array(fileData, position, length);\n",
              "      position += length;\n",
              "\n",
              "      const base64 = btoa(String.fromCharCode.apply(null, chunk));\n",
              "      yield {\n",
              "        response: {\n",
              "          action: 'append',\n",
              "          file: file.name,\n",
              "          data: base64,\n",
              "        },\n",
              "      };\n",
              "\n",
              "      let percentDone = fileData.byteLength === 0 ?\n",
              "          100 :\n",
              "          Math.round((position / fileData.byteLength) * 100);\n",
              "      percent.textContent = `${percentDone}% done`;\n",
              "\n",
              "    } while (position < fileData.byteLength);\n",
              "  }\n",
              "\n",
              "  // All done.\n",
              "  yield {\n",
              "    response: {\n",
              "      action: 'complete',\n",
              "    }\n",
              "  };\n",
              "}\n",
              "\n",
              "scope.google = scope.google || {};\n",
              "scope.google.colab = scope.google.colab || {};\n",
              "scope.google.colab._files = {\n",
              "  _uploadFiles,\n",
              "  _uploadFilesContinue,\n",
              "};\n",
              "})(self);\n",
              "</script> "
            ]
          },
          "metadata": {}
        },
        {
          "output_type": "stream",
          "name": "stdout",
          "text": [
            "Saving CVD_cleaned.csv to CVD_cleaned.csv\n"
          ]
        }
      ]
    },
    {
      "cell_type": "code",
      "source": [
        "import io\n",
        "import pandas as pd\n",
        "\n",
        "data = pd.read_csv(io.BytesIO(uploaded['CVD_cleaned.csv']))"
      ],
      "metadata": {
        "id": "ph60TojCQkL9"
      },
      "execution_count": 58,
      "outputs": []
    },
    {
      "cell_type": "code",
      "source": [
        "print(data.head())"
      ],
      "metadata": {
        "colab": {
          "base_uri": "https://localhost:8080/"
        },
        "collapsed": true,
        "id": "0cqsRuvQQzoy",
        "outputId": "0334d771-dcb5-4b65-b4a4-f31ca87271a3"
      },
      "execution_count": 46,
      "outputs": [
        {
          "output_type": "stream",
          "name": "stdout",
          "text": [
            "  General_Health                  Checkup Exercise Heart_Disease Skin_Cancer  \\\n",
            "0           Poor  Within the past 2 years       No            No          No   \n",
            "1      Very Good     Within the past year       No           Yes          No   \n",
            "2      Very Good     Within the past year      Yes            No          No   \n",
            "3           Poor     Within the past year      Yes           Yes          No   \n",
            "4           Good     Within the past year       No            No          No   \n",
            "\n",
            "  Other_Cancer Depression Diabetes Arthritis     Sex Age_Category  \\\n",
            "0           No         No       No       Yes  Female        70-74   \n",
            "1           No         No      Yes        No  Female        70-74   \n",
            "2           No         No      Yes        No  Female        60-64   \n",
            "3           No         No      Yes        No    Male        75-79   \n",
            "4           No         No       No        No    Male          80+   \n",
            "\n",
            "   Height_(cm)  Weight_(kg)    BMI Smoking_History  Alcohol_Consumption  \\\n",
            "0        150.0        32.66  14.54             Yes                  0.0   \n",
            "1        165.0        77.11  28.29              No                  0.0   \n",
            "2        163.0        88.45  33.47              No                  4.0   \n",
            "3        180.0        93.44  28.73              No                  0.0   \n",
            "4        191.0        88.45  24.37             Yes                  0.0   \n",
            "\n",
            "   Fruit_Consumption  Green_Vegetables_Consumption  FriedPotato_Consumption  \n",
            "0               30.0                          16.0                     12.0  \n",
            "1               30.0                           0.0                      4.0  \n",
            "2               12.0                           3.0                     16.0  \n",
            "3               30.0                          30.0                      8.0  \n",
            "4                8.0                           4.0                      0.0  \n"
          ]
        }
      ]
    },
    {
      "cell_type": "code",
      "source": [
        "# Convert the 'Heart_Disease' column to numeric\n",
        "data['Heart_Disease'] = data['Heart_Disease'].map({'No': 0, 'Yes': 1})\n"
      ],
      "metadata": {
        "id": "EaTk6giUVJs0"
      },
      "execution_count": 59,
      "outputs": []
    },
    {
      "cell_type": "code",
      "source": [
        "# Replace age ranges with their midpoints\n",
        "def age_to_midpoint(age_range):\n",
        "    if age_range == '80+':\n",
        "        return 80  # Assign 80 for this case\n",
        "    lower, upper = map(int, age_range.split('-'))\n",
        "    return (lower + upper) // 2\n",
        "\n",
        "data['Age_Category'] = data['Age_Category'].apply(age_to_midpoint)\n"
      ],
      "metadata": {
        "id": "4ACghi0IVNvp"
      },
      "execution_count": 60,
      "outputs": []
    },
    {
      "cell_type": "code",
      "source": [
        "# Convert 'Smoking_History' column to numeric\n",
        "data['Smoking_History'] = data['Smoking_History'].map({'No': 0, 'Yes': 1})\n"
      ],
      "metadata": {
        "id": "gehcUBNAVk26"
      },
      "execution_count": 62,
      "outputs": []
    },
    {
      "cell_type": "code",
      "source": [
        "# Convert 'Exercise', 'Heart_Disease', 'Depression', and 'Diabetes' columns to numeric (Yes=1, No=0)\n",
        "columns_to_convert = ['Exercise', 'Depression', 'Diabetes']\n",
        "\n",
        "for column in columns_to_convert:\n",
        "    data[column] = data[column].map({'No': 0, 'Yes': 1})\n"
      ],
      "metadata": {
        "id": "0rcNKA6jVxnV"
      },
      "execution_count": 63,
      "outputs": []
    },
    {
      "cell_type": "code",
      "source": [
        "# Map 'General_Health' values to numeric values\n",
        "health_mapping = {\n",
        "    'Poor': 0,\n",
        "    'Fair': 5,\n",
        "    'Good': 10,\n",
        "    'Very Good': 15,\n",
        "    'Excellent': 20\n",
        "}\n",
        "\n",
        "data['General_Health'] = data['General_Health'].map(health_mapping)\n"
      ],
      "metadata": {
        "id": "ik2T80MmWQgX"
      },
      "execution_count": 64,
      "outputs": []
    },
    {
      "cell_type": "code",
      "source": [
        "# Map 'Sex' column to numeric values (Male = 0, Female = 1)\n",
        "data['Sex'] = data['Sex'].map({'Male': 0, 'Female': 1})\n"
      ],
      "metadata": {
        "id": "R4wWTjW8WZo_"
      },
      "execution_count": 65,
      "outputs": []
    },
    {
      "cell_type": "code",
      "source": [
        "print(data.head())"
      ],
      "metadata": {
        "collapsed": true,
        "colab": {
          "base_uri": "https://localhost:8080/"
        },
        "id": "BGaMxmdNoa6M",
        "outputId": "926ba7ff-7f81-4f11-d82e-4a294865d843"
      },
      "execution_count": 66,
      "outputs": [
        {
          "output_type": "stream",
          "name": "stdout",
          "text": [
            "   General_Health                  Checkup  Exercise  Heart_Disease  \\\n",
            "0               0  Within the past 2 years         0              0   \n",
            "1              15     Within the past year         0              1   \n",
            "2              15     Within the past year         1              0   \n",
            "3               0     Within the past year         1              1   \n",
            "4              10     Within the past year         0              0   \n",
            "\n",
            "  Skin_Cancer Other_Cancer  Depression  Diabetes Arthritis  Sex  Age_Category  \\\n",
            "0          No           No           0       0.0       Yes    1            72   \n",
            "1          No           No           0       1.0        No    1            72   \n",
            "2          No           No           0       1.0        No    1            62   \n",
            "3          No           No           0       1.0        No    0            77   \n",
            "4          No           No           0       0.0        No    0            80   \n",
            "\n",
            "   Height_(cm)  Weight_(kg)    BMI  Smoking_History  Alcohol_Consumption  \\\n",
            "0        150.0        32.66  14.54                1                  0.0   \n",
            "1        165.0        77.11  28.29                0                  0.0   \n",
            "2        163.0        88.45  33.47                0                  4.0   \n",
            "3        180.0        93.44  28.73                0                  0.0   \n",
            "4        191.0        88.45  24.37                1                  0.0   \n",
            "\n",
            "   Fruit_Consumption  Green_Vegetables_Consumption  FriedPotato_Consumption  \n",
            "0               30.0                          16.0                     12.0  \n",
            "1               30.0                           0.0                      4.0  \n",
            "2               12.0                           3.0                     16.0  \n",
            "3               30.0                          30.0                      8.0  \n",
            "4                8.0                           4.0                      0.0  \n"
          ]
        }
      ]
    },
    {
      "cell_type": "code",
      "source": [
        "import pandas as pd\n",
        "from sklearn.model_selection import train_test_split\n",
        "from sklearn.preprocessing import LabelEncoder, StandardScaler\n",
        "from sklearn.impute import SimpleImputer\n",
        "from sklearn.linear_model import LogisticRegression\n",
        "from sklearn.neighbors import KNeighborsClassifier\n",
        "from sklearn.svm import SVC\n",
        "from sklearn.tree import DecisionTreeClassifier\n",
        "from sklearn.ensemble import RandomForestClassifier\n",
        "from sklearn.metrics import accuracy_score\n",
        "\n",
        "# Step 1: Load the dataset\n",
        "# Ensure 'data' is loaded correctly before running the rest of the code\n",
        "# Example: data = pd.read_csv('CVD_cleaned.csv')\n",
        "print(\"Dataset loaded successfully.\")\n",
        "\n",
        "# Step 2: Select specified parameters\n",
        "columns_to_use = [\n",
        "    'General_Health', 'Exercise', 'Heart_Disease', 'Depression', 'Diabetes',\n",
        "    'Sex', 'Age_Category', 'Height_(cm)', 'Weight_(kg)', 'Smoking_History',\n",
        "    'Alcohol_Consumption', 'Green_Vegetables_Consumption'\n",
        "]\n",
        "data = data[columns_to_use]  # Subset the dataset with selected columns\n",
        "print(\"Subset of data:\")\n",
        "print(data.head())  # Verify the subset\n",
        "\n",
        "# Step 3: Handle missing values\n",
        "# Impute missing values for numerical columns\n",
        "imputer = SimpleImputer(strategy='mean')  # Replace 'mean' with 'median' if needed\n",
        "for col in data.select_dtypes(include=['float64', 'int64']).columns:\n",
        "    data[col] = imputer.fit_transform(data[[col]])\n",
        "\n",
        "# Impute missing values for categorical columns (if any)\n",
        "for col in data.select_dtypes(include='object').columns:\n",
        "    data[col] = data[col].fillna(\"Unknown\")  # Or impute with the most frequent value\n",
        "\n",
        "# Step 4: Separate features and target\n",
        "X = data.drop(columns=['Heart_Disease'])  # Replace 'Heart_Disease' with your target column name\n",
        "y = data['Heart_Disease']\n",
        "\n",
        "# Step 5: Encode categorical variables\n",
        "encoder = LabelEncoder()\n",
        "for col in X.select_dtypes(include='object').columns:\n",
        "    X[col] = encoder.fit_transform(X[col])\n",
        "\n",
        "# Step 6: Split the dataset\n",
        "X_train, X_test, y_train, y_test = train_test_split(X, y, test_size=0.2, random_state=42)\n",
        "\n",
        "# Step 7: Scale numerical features\n",
        "scaler = StandardScaler()\n",
        "X_train = scaler.fit_transform(X_train)\n",
        "X_test = scaler.transform(X_test)\n",
        "\n",
        "# Step 8: Define models\n",
        "models = {\n",
        "    'Logistic Regression': LogisticRegression(),\n",
        "    'K-Nearest Neighbors': KNeighborsClassifier(),\n",
        "    'Support Vector Machine': SVC(),\n",
        "    'Decision Tree': DecisionTreeClassifier(),\n",
        "    'Random Forest': RandomForestClassifier(),\n",
        "}\n",
        "\n",
        "# Step 9: Train and evaluate each model\n",
        "for name, model in models.items():\n",
        "    model.fit(X_train, y_train)\n",
        "    y_pred = model.predict(X_test)\n",
        "    accuracy = accuracy_score(y_test, y_pred)\n",
        "    print(f\"Accuracy of {name}: {accuracy:.2f}\")\n"
      ],
      "metadata": {
        "colab": {
          "base_uri": "https://localhost:8080/"
        },
        "id": "C553SKg0uEwH",
        "outputId": "b8564c3c-0cdf-4c3c-ca1a-d4adf8d1d707"
      },
      "execution_count": null,
      "outputs": [
        {
          "output_type": "stream",
          "name": "stdout",
          "text": [
            "Dataset loaded successfully.\n",
            "Subset of data:\n",
            "   General_Health  Exercise  Heart_Disease  Depression  Diabetes  Sex  \\\n",
            "0               0         0              0           0       0.0    1   \n",
            "1              15         0              1           0       1.0    1   \n",
            "2              15         1              0           0       1.0    1   \n",
            "3               0         1              1           0       1.0    0   \n",
            "4              10         0              0           0       0.0    0   \n",
            "\n",
            "   Age_Category  Height_(cm)  Weight_(kg)  Smoking_History  \\\n",
            "0            72        150.0        32.66                1   \n",
            "1            72        165.0        77.11                0   \n",
            "2            62        163.0        88.45                0   \n",
            "3            77        180.0        93.44                0   \n",
            "4            80        191.0        88.45                1   \n",
            "\n",
            "   Alcohol_Consumption  Green_Vegetables_Consumption  \n",
            "0                  0.0                          16.0  \n",
            "1                  0.0                           0.0  \n",
            "2                  4.0                           3.0  \n",
            "3                  0.0                          30.0  \n",
            "4                  0.0                           4.0  \n",
            "Accuracy of Logistic Regression: 0.92\n",
            "Accuracy of K-Nearest Neighbors: 0.91\n"
          ]
        }
      ]
    }
  ]
}